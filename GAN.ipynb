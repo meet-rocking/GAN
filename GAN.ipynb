{
 "cells": [
  {
   "cell_type": "code",
   "execution_count": 25,
   "metadata": {},
   "outputs": [],
   "source": [
    "from keras.models import Model\n",
    "from keras.layers import Input, Dense, Flatten, Reshape, Activation, Dropout\n",
    "from keras import utils\n",
    "from keras.layers import Conv2D, Conv2DTranspose, MaxPooling2D, BatchNormalization, UpSampling2D\n",
    "from keras.optimizers import Adam, RMSprop\n",
    "\n",
    "import cv2\n",
    "import os\n",
    "import random\n",
    "import numpy as np\n",
    "import matplotlib.pyplot as plt"
   ]
  },
  {
   "cell_type": "code",
   "execution_count": 26,
   "metadata": {},
   "outputs": [
    {
     "name": "stdout",
     "output_type": "stream",
     "text": [
      "Extracting C:/Users/hibat/Desktop/Github/Encoder_Decoder/train-images-idx3-ubyte.gz\n"
     ]
    }
   ],
   "source": [
    "from tensorflow.contrib.learn.python.learn.datasets.mnist import extract_images, extract_labels\n",
    "\n",
    "with open('C:/Users/hibat/Desktop/Github/Encoder_Decoder/train-images-idx3-ubyte.gz', 'rb') as f:\n",
    "      X = extract_images(f)\n",
    "\n"
   ]
  },
  {
   "cell_type": "code",
   "execution_count": 27,
   "metadata": {},
   "outputs": [
    {
     "data": {
      "text/plain": [
       "(28, 28, 1)"
      ]
     },
     "execution_count": 27,
     "metadata": {},
     "output_type": "execute_result"
    }
   ],
   "source": [
    "X[0].shape"
   ]
  },
  {
   "cell_type": "code",
   "execution_count": 28,
   "metadata": {},
   "outputs": [
    {
     "data": {
      "text/plain": [
       "<function matplotlib.pyplot.show(*args, **kw)>"
      ]
     },
     "execution_count": 28,
     "metadata": {},
     "output_type": "execute_result"
    },
    {
     "data": {
      "image/png": "[encoded data removed]",
      "text/plain": [
       "<Figure size 432x288 with 1 Axes>"
      ]
     },
     "metadata": {
      "needs_background": "light"
     },
     "output_type": "display_data"
    }
   ],
   "source": [
    "\n",
    "photo_array = np.array(X[0]).reshape(28, 28)\n",
    "plt.imshow(photo_array)\n",
    "plt.show"
   ]
  },
  {
   "cell_type": "markdown",
   "metadata": {},
   "source": [
    " ![title](images.png)"
   ]
  },
  {
   "cell_type": "code",
   "execution_count": 29,
   "metadata": {},
   "outputs": [
    {
     "name": "stdout",
     "output_type": "stream",
     "text": [
      "v\n",
      "Model: \"model_4\"\n",
      "_________________________________________________________________\n",
      "Layer (type)                 Output Shape              Param #   \n",
      "=================================================================\n",
      "input_2 (InputLayer)         (None, 100)               0         \n",
      "_________________________________________________________________\n",
      "dense_3 (Dense)              (None, 3136)              316736    \n",
      "_________________________________________________________________\n",
      "batch_normalization_5 (Batch (None, 3136)              12544     \n",
      "_________________________________________________________________\n",
      "activation_10 (Activation)   (None, 3136)              0         \n",
      "_________________________________________________________________\n",
      "reshape_2 (Reshape)          (None, 7, 7, 64)          0         \n",
      "_________________________________________________________________\n",
      "up_sampling2d_3 (UpSampling2 (None, 14, 14, 64)        0         \n",
      "_________________________________________________________________\n",
      "conv2d_9 (Conv2D)            (None, 14, 14, 128)       73856     \n",
      "_________________________________________________________________\n",
      "batch_normalization_6 (Batch (None, 14, 14, 128)       512       \n",
      "_________________________________________________________________\n",
      "activation_11 (Activation)   (None, 14, 14, 128)       0         \n",
      "_________________________________________________________________\n",
      "up_sampling2d_4 (UpSampling2 (None, 28, 28, 128)       0         \n",
      "_________________________________________________________________\n",
      "conv2d_10 (Conv2D)           (None, 28, 28, 64)        73792     \n",
      "_________________________________________________________________\n",
      "batch_normalization_7 (Batch (None, 28, 28, 64)        256       \n",
      "_________________________________________________________________\n",
      "activation_12 (Activation)   (None, 28, 28, 64)        0         \n",
      "_________________________________________________________________\n",
      "conv2d_11 (Conv2D)           (None, 28, 28, 64)        36928     \n",
      "_________________________________________________________________\n",
      "batch_normalization_8 (Batch (None, 28, 28, 64)        256       \n",
      "_________________________________________________________________\n",
      "activation_13 (Activation)   (None, 28, 28, 64)        0         \n",
      "_________________________________________________________________\n",
      "conv2d_12 (Conv2D)           (None, 28, 28, 1)         577       \n",
      "_________________________________________________________________\n",
      "activation_14 (Activation)   (None, 28, 28, 1)         0         \n",
      "=================================================================\n",
      "Total params: 515,457\n",
      "Trainable params: 508,673\n",
      "Non-trainable params: 6,784\n",
      "_________________________________________________________________\n",
      "None\n"
     ]
    }
   ],
   "source": [
    "#create generator\n",
    "generator_input = Input(shape=(100, ))\n",
    "print('v')\n",
    "\n",
    "x1 = Dense(3136)(generator_input)\n",
    "x1 = BatchNormalization(momentum=0.9)(x1)\n",
    "x1 = Activation('relu')(x1)\n",
    "\n",
    "x1 = Reshape((7, 7, 64))(x1)\n",
    "x1 = UpSampling2D((2, 2))(x1)\n",
    "\n",
    "x1 = Conv2D(128, kernel_size = (3, 3), padding='same')(x1)\n",
    "x1 = BatchNormalization(momentum=0.9)(x1)\n",
    "x1 = Activation('relu')(x1)\n",
    "\n",
    "x1 = UpSampling2D((2, 2))(x1)\n",
    "x1 = Conv2D(64, kernel_size=(3, 3), padding='same')(x1)\n",
    "x1 = BatchNormalization(momentum=0.9)(x1)\n",
    "x1 = Activation('relu')(x1)\n",
    "\n",
    "x1 = Conv2D(64, kernel_size=(3, 3), padding='same')(x1)\n",
    "x1 = BatchNormalization(momentum=0.9)(x1)\n",
    "x1 = Activation('relu')(x1)\n",
    "\n",
    "x1 = Conv2D(1, kernel_size=(3, 3), padding='same')(x1)\n",
    "generator_output = Activation('relu')(x1)\n",
    "\n",
    "generator_model = Model(inputs = generator_input, outputs=generator_output)\n",
    "\n",
    "print(generator_model.summary())"
   ]
  },
  {
   "cell_type": "code",
   "execution_count": 30,
   "metadata": {},
   "outputs": [
    {
     "name": "stdout",
     "output_type": "stream",
     "text": [
      "h\n",
      "Model: \"model_5\"\n",
      "_________________________________________________________________\n",
      "Layer (type)                 Output Shape              Param #   \n",
      "=================================================================\n",
      "discriminator_input (InputLa (None, 28, 28, 1)         0         \n",
      "_________________________________________________________________\n",
      "conv2d_13 (Conv2D)           (None, 14, 14, 64)        640       \n",
      "_________________________________________________________________\n",
      "activation_15 (Activation)   (None, 14, 14, 64)        0         \n",
      "_________________________________________________________________\n",
      "dropout_5 (Dropout)          (None, 14, 14, 64)        0         \n",
      "_________________________________________________________________\n",
      "conv2d_14 (Conv2D)           (None, 7, 7, 64)          36928     \n",
      "_________________________________________________________________\n",
      "activation_16 (Activation)   (None, 7, 7, 64)          0         \n",
      "_________________________________________________________________\n",
      "dropout_6 (Dropout)          (None, 7, 7, 64)          0         \n",
      "_________________________________________________________________\n",
      "conv2d_15 (Conv2D)           (None, 4, 4, 128)         73856     \n",
      "_________________________________________________________________\n",
      "activation_17 (Activation)   (None, 4, 4, 128)         0         \n",
      "_________________________________________________________________\n",
      "dropout_7 (Dropout)          (None, 4, 4, 128)         0         \n",
      "_________________________________________________________________\n",
      "conv2d_16 (Conv2D)           (None, 4, 4, 128)         147584    \n",
      "_________________________________________________________________\n",
      "activation_18 (Activation)   (None, 4, 4, 128)         0         \n",
      "_________________________________________________________________\n",
      "dropout_8 (Dropout)          (None, 4, 4, 128)         0         \n",
      "_________________________________________________________________\n",
      "flatten_2 (Flatten)          (None, 2048)              0         \n",
      "_________________________________________________________________\n",
      "dense_4 (Dense)              (None, 1)                 2049      \n",
      "=================================================================\n",
      "Total params: 261,057\n",
      "Trainable params: 261,057\n",
      "Non-trainable params: 0\n",
      "_________________________________________________________________\n",
      "None\n"
     ]
    }
   ],
   "source": [
    "#crate discriminator\n",
    "\n",
    "discriminator_input = Input(shape = (28, 28, 1), name = 'discriminator_input')\n",
    "print('h')\n",
    "\n",
    "x = Conv2D(64, kernel_size = (3, 3), strides=(2,2), padding='same')(discriminator_input)\n",
    "x = Activation('relu')(x)\n",
    "x = Dropout(0.4)(x)\n",
    "\n",
    "\n",
    "x = Conv2D(64, kernel_size = (3, 3), strides=(2,2), padding='same')(x)\n",
    "x = Activation('relu')(x)\n",
    "x = Dropout(0.4)(x)\n",
    "\n",
    "x = Conv2D(128, kernel_size = (3, 3), strides=(2,2), padding='same')(x)\n",
    "x = Activation('relu')(x)\n",
    "x = Dropout(0.4)(x)\n",
    "\n",
    "x = Conv2D(128, kernel_size = (3, 3), padding='same')(x)\n",
    "x = Activation('relu')(x)\n",
    "x = Dropout(0.4)(x)\n",
    "\n",
    "x = Flatten()(x)\n",
    "discriminator_output = Dense(1, activation='sigmoid')(x)\n",
    "\n",
    "discriminator_model = Model(inputs=discriminator_input, outputs=discriminator_output)\n",
    "\n",
    "print(discriminator_model.summary())"
   ]
  },
  {
   "cell_type": "code",
   "execution_count": 31,
   "metadata": {},
   "outputs": [
    {
     "name": "stdout",
     "output_type": "stream",
     "text": [
      "Model: \"model_6\"\n",
      "_________________________________________________________________\n",
      "Layer (type)                 Output Shape              Param #   \n",
      "=================================================================\n",
      "input_2 (InputLayer)         (None, 100)               0         \n",
      "_________________________________________________________________\n",
      "model_4 (Model)              (None, 28, 28, 1)         515457    \n",
      "_________________________________________________________________\n",
      "model_5 (Model)              (None, 1)                 261057    \n",
      "=================================================================\n",
      "Total params: 776,514\n",
      "Trainable params: 769,730\n",
      "Non-trainable params: 6,784\n",
      "_________________________________________________________________\n",
      "None\n"
     ]
    }
   ],
   "source": [
    "# compile discriminator\n",
    "\n",
    "discriminator_model.compile(optimizer= RMSprop(lr=0.008)\n",
    "                            , loss = 'binary_crossentropy'\n",
    "                            , metrics = ['accuracy'])\n",
    "\n",
    "# compile genrator\n",
    "\n",
    "model_input = generator_input\n",
    "model_output = discriminator_model(generator_model(model_input))\n",
    "\n",
    "model = Model(inputs= model_input, outputs= model_output)\n",
    "model.compile(optimizer=RMSprop(lr=0.004)\n",
    "              , loss='binary_crossentropy'\n",
    "              , metrics=['accuracy'])\n",
    "\n",
    "print(model.summary())"
   ]
  },
  {
   "cell_type": "code",
   "execution_count": 32,
   "metadata": {},
   "outputs": [],
   "source": [
    "def train_discriminator(x_train, batch_size):\n",
    "\n",
    "    valid = np.ones((batch_size,1))\n",
    "    fake = np.zeros((batch_size,1))\n",
    "\n",
    "    # TRAIN ON REAL IMAGES\n",
    "    idx = np.random.randint(0, x_train.shape[0], batch_size)\n",
    "    true_imgs = x_train[idx]\n",
    "    \n",
    "    discriminator_model.train_on_batch(true_imgs, valid) \n",
    "    \n",
    "\n",
    "    # TRAIN ON GENERATED IMAGES\n",
    "    noise = np.random.normal(0, 1, (batch_size, 100))\n",
    "    gen_imgs = generator_model.predict(noise)\n",
    "    \n",
    "    w=10\n",
    "    h=10\n",
    "    fig=plt.figure(figsize=(8, 8))\n",
    "    columns = 6\n",
    "    rows = 6\n",
    "    \n",
    "    for image in range(len(gen_imgs)):\n",
    "        gen = gen_imgs[image]\n",
    "        #gen = cv2.cvtColor(gen, cv2.COLOR_GRAY2RGB)\n",
    "        gen_img = np.array(gen).reshape(28, 28)\n",
    "        fig.add_subplot(rows, columns, image + 1)\n",
    "        plt.axis('off')\n",
    "        plt.imshow(gen_img)\n",
    "    plt.show()\n",
    "        \n",
    "        \n",
    "    discriminator_model.train_on_batch(gen_imgs, fake) \n",
    "    \n",
    "\n",
    "def train_generator(batch_size):\n",
    "\n",
    "    valid = np.ones((batch_size,1))\n",
    "\n",
    "    noise = np.random.normal(0, 1, (batch_size, 100))\n",
    "    model.train_on_batch(noise, valid) \n",
    "    model.predict(noise)"
   ]
  },
  {
   "cell_type": "code",
   "execution_count": null,
   "metadata": {},
   "outputs": [],
   "source": [
    "epochs = 2000\n",
    "batch_size = 32\n",
    "\n",
    "for epoch in range(epochs):\n",
    "    print('Epochs:', epoch, '\\n')\n",
    "    train_discriminator(X, batch_size)\n",
    "    train_generator(batch_size)"
   ]
  },
  {
   "cell_type": "code",
   "execution_count": null,
   "metadata": {},
   "outputs": [],
   "source": []
  },
  {
   "cell_type": "code",
   "execution_count": null,
   "metadata": {},
   "outputs": [],
   "source": []
  }
 ],
 "metadata": {
  "kernelspec": {
   "display_name": "Python 3",
   "language": "python",
   "name": "python3"
  },
  "language_info": {
   "codemirror_mode": {
    "name": "ipython",
    "version": 3
   },
   "file_extension": ".py",
   "mimetype": "text/x-python",
   "name": "python",
   "nbconvert_exporter": "python",
   "pygments_lexer": "ipython3",
   "version": "3.6.8"
  }
 },
 "nbformat": 4,
 "nbformat_minor": 2
}
